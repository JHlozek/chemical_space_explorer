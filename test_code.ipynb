{
 "cells": [
  {
   "cell_type": "code",
   "execution_count": 3,
   "id": "4c86e95f-cbac-4150-b6ee-d435b6536c0f",
   "metadata": {},
   "outputs": [],
   "source": [
    "import pandas as pd\n",
    "import os\n",
    "from plot import plot\n",
    "from bokeh import plotting as bplot\n",
    "\n",
    "df = pd.read_csv(os.path.join(\"/home/jason/h3d_data/H3D_Screening_Cascade/Jan_2024/processed\", \"150124_h3d_caco.csv\"))\n",
    "p = plot(df)"
   ]
  },
  {
   "cell_type": "code",
   "execution_count": 4,
   "id": "d725b101-b1dd-4f68-af45-d482ee973e8a",
   "metadata": {},
   "outputs": [],
   "source": [
    "bplot.show(p)"
   ]
  },
  {
   "cell_type": "code",
   "execution_count": null,
   "id": "ae88ceb2-1611-4d08-a347-557df1b0dff1",
   "metadata": {},
   "outputs": [],
   "source": [
    "#p = bplot.gridplot([[umap]])"
   ]
  },
  {
   "cell_type": "code",
   "execution_count": null,
   "id": "24a4dfcf-75c0-4088-9bcb-8eab78cbe6d5",
   "metadata": {},
   "outputs": [],
   "source": []
  }
 ],
 "metadata": {
  "kernelspec": {
   "display_name": "Python 3 (ipykernel)",
   "language": "python",
   "name": "python3"
  },
  "language_info": {
   "codemirror_mode": {
    "name": "ipython",
    "version": 3
   },
   "file_extension": ".py",
   "mimetype": "text/x-python",
   "name": "python",
   "nbconvert_exporter": "python",
   "pygments_lexer": "ipython3",
   "version": "3.10.14"
  }
 },
 "nbformat": 4,
 "nbformat_minor": 5
}
